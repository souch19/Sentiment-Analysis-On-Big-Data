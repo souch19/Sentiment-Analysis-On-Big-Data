{
  "cells": [
    {
      "cell_type": "markdown",
      "metadata": {
        "id": "b8fa9717"
      },
      "source": [
        "<center><font face='Georgia'>\n",
        "\n",
        "# Big Data Mining.\n",
        "\n",
        "    \n",
        "<center><font size=5 color ='grey' > <i><b>Projet<b></i> : RNN sur le dataset 140Sentiments  </center></font>\n",
        "                 \n",
        "<img src=\"data:image/jpeg;base64,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\" jsaction=\"load:XAeZkd;\" jsname=\"HiaYvf\" class=\"n3VNCb KAlRDb\" alt=\"L'oiseau Twitter tente le rebond - artsixMic\" data-noaft=\"1\" id=\"imi\" data-w=\"600\" data-h=\"487\" style=\"width: 219px; height: 177.755px; margin: 21.5225px 0px;\">\n",
        "\n",
        "\n",
        "------\n",
        "\n",
        "\n",
        "\n",
        "> **Fait par :**\n",
        "<font color ='darkblue' face='Georgia' >   \n",
        " 1.NOURINE Billel.    \n",
        " 2.OUCHENE Souhil.  \n",
        " 3.TOUATI Islem.\n",
        "</font>\n",
        "    \n",
        "> **Avril 2023**\n",
        "    \n",
        "\n"
      ]
    },
    {
      "cell_type": "code",
      "execution_count": null,
      "metadata": {
        "colab": {
          "base_uri": "https://localhost:8080/"
        },
        "id": "8vSeTIo8fbb7",
        "outputId": "66134c15-2163-4474-f829-795a485036a8"
      },
      "outputs": [
        {
          "output_type": "stream",
          "name": "stdout",
          "text": [
            "Looking in indexes: https://pypi.org/simple, https://us-python.pkg.dev/colab-wheels/public/simple/\n",
            "Requirement already satisfied: pyspark in /usr/local/lib/python3.10/dist-packages (3.4.0)\n",
            "Requirement already satisfied: py4j==0.10.9.7 in /usr/local/lib/python3.10/dist-packages (from pyspark) (0.10.9.7)\n"
          ]
        }
      ],
      "source": [
        "pip install pyspark"
      ]
    },
    {
      "cell_type": "code",
      "execution_count": null,
      "metadata": {
        "colab": {
          "base_uri": "https://localhost:8080/"
        },
        "id": "1EWG2Dagt_au",
        "outputId": "467d9d9e-879b-4a4d-beaf-edbde75bfac4"
      },
      "outputs": [
        {
          "output_type": "stream",
          "name": "stderr",
          "text": [
            "[nltk_data] Downloading package wordnet to /root/nltk_data...\n",
            "[nltk_data]   Package wordnet is already up-to-date!\n"
          ]
        }
      ],
      "source": [
        "import numpy as np\n",
        "import pandas as pd\n",
        "import matplotlib.pyplot as plt\n",
        "import seaborn as sns\n",
        "from sklearn.metrics import confusion_matrix\n",
        "\n",
        "import pyspark\n",
        "from pyspark.sql import SparkSession\n",
        "from pyspark.sql.functions import when, count, col\n",
        "from pyspark.ml.feature import HashingTF, Tokenizer, StopWordsRemover\n",
        "from pyspark.sql.types import *\n",
        "from pyspark.sql.functions import *\n",
        "from pyspark.sql.functions import regexp_replace\n",
        "from pyspark.ml.feature import RegexTokenizer\n",
        "from pyspark.sql.functions import udf\n",
        "from pyspark.sql.functions import array, struct\n",
        "from pyspark.ml.feature import Word2Vec\n",
        "from pyspark.sql.functions import split\n",
        "from pyspark.sql.functions import udf\n",
        "from pyspark.sql.types import ArrayType, StringType\n",
        "\n",
        "import os\n",
        "import sys\n",
        "\n",
        "os.environ['PYSPARK_PYTHON'] = sys.executable\n",
        "os.environ['PYSPARK_DRIVER_PYTHON'] = sys.executable\n",
        "\n",
        "import nltk\n",
        "nltk.download('wordnet')\n",
        "from nltk.stem import WordNetLemmatizer\n",
        "import tensorflow as tf\n",
        "from tensorflow.keras.models import Sequential\n",
        "from tensorflow.keras.layers import Embedding, SimpleRNN, Dense\n",
        "import keras\n",
        "from nltk.stem.porter import PorterStemmer\n",
        "import re\n",
        "import string\n",
        "\n"
      ]
    },
    {
      "cell_type": "code",
      "execution_count": null,
      "metadata": {
        "colab": {
          "base_uri": "https://localhost:8080/"
        },
        "id": "Lhy5sTXifrf1",
        "outputId": "ff179171-19d4-4ffa-bc9c-4e6255348826"
      },
      "outputs": [
        {
          "output_type": "stream",
          "name": "stdout",
          "text": [
            "Drive already mounted at /content/drive; to attempt to forcibly remount, call drive.mount(\"/content/drive\", force_remount=True).\n"
          ]
        }
      ],
      "source": [
        "from google.colab import drive\n",
        "drive.mount('/content/drive')"
      ]
    },
    {
      "cell_type": "code",
      "execution_count": null,
      "metadata": {
        "colab": {
          "base_uri": "https://localhost:8080/",
          "height": 219
        },
        "id": "S3NkqprQudNo",
        "outputId": "28a26457-48aa-40eb-b287-637101847e68"
      },
      "outputs": [
        {
          "output_type": "execute_result",
          "data": {
            "text/plain": [
              "<pyspark.sql.session.SparkSession at 0x7fc19f927d60>"
            ],
            "text/html": [
              "\n",
              "            <div>\n",
              "                <p><b>SparkSession - in-memory</b></p>\n",
              "                \n",
              "        <div>\n",
              "            <p><b>SparkContext</b></p>\n",
              "\n",
              "            <p><a href=\"http://0e192aec2973:4040\">Spark UI</a></p>\n",
              "\n",
              "            <dl>\n",
              "              <dt>Version</dt>\n",
              "                <dd><code>v3.4.0</code></dd>\n",
              "              <dt>Master</dt>\n",
              "                <dd><code>local[*]</code></dd>\n",
              "              <dt>AppName</dt>\n",
              "                <dd><code>Projet_BDM</code></dd>\n",
              "            </dl>\n",
              "        </div>\n",
              "        \n",
              "            </div>\n",
              "        "
            ]
          },
          "metadata": {},
          "execution_count": 5
        }
      ],
      "source": [
        "# Crée une session Spark avec le nom 'Projet_BDM' :\n",
        "MAX_MEMORY = \"5g\"\n",
        "nbr_Cores = 10\n",
        "spark = SparkSession \\\n",
        ".builder \\\n",
        ".appName(\"Projet_BDM\") \\\n",
        ".config(\"spark.executor.memory\", MAX_MEMORY) \\\n",
        ".config(\"spark.driver.memory\", MAX_MEMORY) \\\n",
        ".config(\"spark.executor.cores\", nbr_Cores) \\\n",
        ".getOrCreate()\n",
        "\n",
        "spark"
      ]
    },
    {
      "cell_type": "code",
      "execution_count": null,
      "metadata": {
        "id": "NOKir2ePuh8E"
      },
      "outputs": [],
      "source": [
        "df_pyspark = spark.read.csv(\"/content/drive/MyDrive/training.1600000.processed.noemoticon.csv\", inferSchema=True ,sep=\",\")"
      ]
    },
    {
      "cell_type": "code",
      "execution_count": null,
      "metadata": {
        "id": "4x5avZFVvPSN"
      },
      "outputs": [],
      "source": [
        "col_names = ['target', 'id', 'date', 'flag', 'user', 'text']\n",
        "df_pyspark= df_pyspark.toDF(*col_names)"
      ]
    },
    {
      "cell_type": "code",
      "execution_count": null,
      "metadata": {
        "colab": {
          "base_uri": "https://localhost:8080/"
        },
        "id": "z0QCSCJMu0NS",
        "outputId": "d5200c67-e7a1-4e38-e437-4eeeef905c56"
      },
      "outputs": [
        {
          "output_type": "stream",
          "name": "stdout",
          "text": [
            "+------+----------+----------------------------+--------+---------------+---------------------------------------------------------------------------------------------------------------------+\n",
            "|target|id        |date                        |flag    |user           |text                                                                                                                 |\n",
            "+------+----------+----------------------------+--------+---------------+---------------------------------------------------------------------------------------------------------------------+\n",
            "|0     |1467810369|Mon Apr 06 22:19:45 PDT 2009|NO_QUERY|_TheSpecialOne_|@switchfoot http://twitpic.com/2y1zl - Awww, that's a bummer.  You shoulda got David Carr of Third Day to do it. ;D  |\n",
            "|0     |1467810672|Mon Apr 06 22:19:49 PDT 2009|NO_QUERY|scotthamilton  |is upset that he can't update his Facebook by texting it... and might cry as a result  School today also. Blah!      |\n",
            "|0     |1467810917|Mon Apr 06 22:19:53 PDT 2009|NO_QUERY|mattycus       |@Kenichan I dived many times for the ball. Managed to save 50%  The rest go out of bounds                            |\n",
            "|0     |1467811184|Mon Apr 06 22:19:57 PDT 2009|NO_QUERY|ElleCTF        |my whole body feels itchy and like its on fire                                                                       |\n",
            "|0     |1467811193|Mon Apr 06 22:19:57 PDT 2009|NO_QUERY|Karoli         |@nationwideclass no, it's not behaving at all. i'm mad. why am i here? because I can't see you all over there.       |\n",
            "|0     |1467811372|Mon Apr 06 22:20:00 PDT 2009|NO_QUERY|joy_wolf       |@Kwesidei not the whole crew                                                                                         |\n",
            "|0     |1467811592|Mon Apr 06 22:20:03 PDT 2009|NO_QUERY|mybirch        |Need a hug                                                                                                           |\n",
            "|0     |1467811594|Mon Apr 06 22:20:03 PDT 2009|NO_QUERY|coZZ           |@LOLTrish hey  long time no see! Yes.. Rains a bit ,only a bit  LOL , I'm fine thanks , how's you ?                  |\n",
            "|0     |1467811795|Mon Apr 06 22:20:05 PDT 2009|NO_QUERY|2Hood4Hollywood|@Tatiana_K nope they didn't have it                                                                                  |\n",
            "|0     |1467812025|Mon Apr 06 22:20:09 PDT 2009|NO_QUERY|mimismo        |@twittera que me muera ?                                                                                             |\n",
            "|0     |1467812416|Mon Apr 06 22:20:16 PDT 2009|NO_QUERY|erinx3leannexo |spring break in plain city... it's snowing                                                                           |\n",
            "|0     |1467812579|Mon Apr 06 22:20:17 PDT 2009|NO_QUERY|pardonlauren   |I just re-pierced my ears                                                                                            |\n",
            "|0     |1467812723|Mon Apr 06 22:20:19 PDT 2009|NO_QUERY|TLeC           |@caregiving I couldn't bear to watch it.  And I thought the UA loss was embarrassing . . . . .                       |\n",
            "|0     |1467812771|Mon Apr 06 22:20:19 PDT 2009|NO_QUERY|robrobbierobert|@octolinz16 It it counts, idk why I did either. you never talk to me anymore                                         |\n",
            "|0     |1467812784|Mon Apr 06 22:20:20 PDT 2009|NO_QUERY|bayofwolves    |@smarrison i would've been the first, but i didn't have a gun.    not really though, zac snyder's just a doucheclown.|\n",
            "|0     |1467812799|Mon Apr 06 22:20:20 PDT 2009|NO_QUERY|HairByJess     |@iamjazzyfizzle I wish I got to watch it with you!! I miss you and @iamlilnicki  how was the premiere?!              |\n",
            "|0     |1467812964|Mon Apr 06 22:20:22 PDT 2009|NO_QUERY|lovesongwriter |Hollis' death scene will hurt me severely to watch on film  wry is directors cut not out now?                        |\n",
            "|0     |1467813137|Mon Apr 06 22:20:25 PDT 2009|NO_QUERY|armotley       |about to file taxes                                                                                                  |\n",
            "|0     |1467813579|Mon Apr 06 22:20:31 PDT 2009|NO_QUERY|starkissed     |@LettyA ahh ive always wanted to see rent  love the soundtrack!!                                                     |\n",
            "|0     |1467813782|Mon Apr 06 22:20:34 PDT 2009|NO_QUERY|gi_gi_bee      |@FakerPattyPattz Oh dear. Were you drinking out of the forgotten table drinks?                                       |\n",
            "+------+----------+----------------------------+--------+---------------+---------------------------------------------------------------------------------------------------------------------+\n",
            "only showing top 20 rows\n",
            "\n"
          ]
        }
      ],
      "source": [
        "df_pyspark.show(truncate=False)"
      ]
    },
    {
      "cell_type": "code",
      "execution_count": null,
      "metadata": {
        "colab": {
          "base_uri": "https://localhost:8080/"
        },
        "id": "mXVXxJfMwAGT",
        "outputId": "5610f843-9dd3-4d82-a6c4-579329d4b664"
      },
      "outputs": [
        {
          "output_type": "stream",
          "name": "stdout",
          "text": [
            "Dimensions : 1600000 lignes x 6 colonnes\n"
          ]
        }
      ],
      "source": [
        "print(\"Dimensions : {} lignes x {} colonnes\".format(df_pyspark.count(), len(df_pyspark.columns)))"
      ]
    },
    {
      "cell_type": "code",
      "execution_count": null,
      "metadata": {
        "colab": {
          "base_uri": "https://localhost:8080/"
        },
        "id": "wxb4PvJqw0Et",
        "outputId": "fd6cd3e8-e858-419e-b4cf-158398a2bdeb"
      },
      "outputs": [
        {
          "output_type": "stream",
          "name": "stdout",
          "text": [
            "root\n",
            " |-- target: integer (nullable = true)\n",
            " |-- id: long (nullable = true)\n",
            " |-- date: string (nullable = true)\n",
            " |-- flag: string (nullable = true)\n",
            " |-- user: string (nullable = true)\n",
            " |-- text: string (nullable = true)\n",
            "\n"
          ]
        }
      ],
      "source": [
        "# afficher le schéma du Data\n",
        "df_pyspark.printSchema()"
      ]
    },
    {
      "cell_type": "code",
      "execution_count": null,
      "metadata": {
        "id": "NousPm3uy4KC"
      },
      "outputs": [],
      "source": [
        "# Sélectionner les deux colonnes 'target' et 'text'\n",
        "data = df_pyspark.select([\"target\",\"text\"])"
      ]
    },
    {
      "cell_type": "code",
      "execution_count": null,
      "metadata": {
        "colab": {
          "base_uri": "https://localhost:8080/"
        },
        "id": "Lg_-dqfZzBEl",
        "outputId": "8f0e2a76-b2a9-429c-96d2-57f14fcefc01"
      },
      "outputs": [
        {
          "output_type": "stream",
          "name": "stdout",
          "text": [
            "+------+---------------------------------------------------------------------------------------------------------------------+\n",
            "|target|text                                                                                                                 |\n",
            "+------+---------------------------------------------------------------------------------------------------------------------+\n",
            "|0     |@switchfoot http://twitpic.com/2y1zl - Awww, that's a bummer.  You shoulda got David Carr of Third Day to do it. ;D  |\n",
            "|0     |is upset that he can't update his Facebook by texting it... and might cry as a result  School today also. Blah!      |\n",
            "|0     |@Kenichan I dived many times for the ball. Managed to save 50%  The rest go out of bounds                            |\n",
            "|0     |my whole body feels itchy and like its on fire                                                                       |\n",
            "|0     |@nationwideclass no, it's not behaving at all. i'm mad. why am i here? because I can't see you all over there.       |\n",
            "|0     |@Kwesidei not the whole crew                                                                                         |\n",
            "|0     |Need a hug                                                                                                           |\n",
            "|0     |@LOLTrish hey  long time no see! Yes.. Rains a bit ,only a bit  LOL , I'm fine thanks , how's you ?                  |\n",
            "|0     |@Tatiana_K nope they didn't have it                                                                                  |\n",
            "|0     |@twittera que me muera ?                                                                                             |\n",
            "|0     |spring break in plain city... it's snowing                                                                           |\n",
            "|0     |I just re-pierced my ears                                                                                            |\n",
            "|0     |@caregiving I couldn't bear to watch it.  And I thought the UA loss was embarrassing . . . . .                       |\n",
            "|0     |@octolinz16 It it counts, idk why I did either. you never talk to me anymore                                         |\n",
            "|0     |@smarrison i would've been the first, but i didn't have a gun.    not really though, zac snyder's just a doucheclown.|\n",
            "|0     |@iamjazzyfizzle I wish I got to watch it with you!! I miss you and @iamlilnicki  how was the premiere?!              |\n",
            "|0     |Hollis' death scene will hurt me severely to watch on film  wry is directors cut not out now?                        |\n",
            "|0     |about to file taxes                                                                                                  |\n",
            "|0     |@LettyA ahh ive always wanted to see rent  love the soundtrack!!                                                     |\n",
            "|0     |@FakerPattyPattz Oh dear. Were you drinking out of the forgotten table drinks?                                       |\n",
            "+------+---------------------------------------------------------------------------------------------------------------------+\n",
            "only showing top 20 rows\n",
            "\n"
          ]
        }
      ],
      "source": [
        "data.show(truncate=False)"
      ]
    },
    {
      "cell_type": "code",
      "execution_count": null,
      "metadata": {
        "colab": {
          "base_uri": "https://localhost:8080/"
        },
        "id": "n-P69cEPkc4K",
        "outputId": "d116ae66-dacf-440d-d71b-d7904bad4ac5"
      },
      "outputs": [
        {
          "output_type": "execute_result",
          "data": {
            "text/plain": [
              "[4, 0]"
            ]
          },
          "metadata": {},
          "execution_count": 13
        }
      ],
      "source": [
        "# Les valeurs uniques de la variable \"target\"\n",
        "unique_vals = data.select(col('target')).distinct().rdd.flatMap(lambda x: x).collect()\n",
        "unique_vals"
      ]
    },
    {
      "cell_type": "code",
      "execution_count": null,
      "metadata": {
        "colab": {
          "base_uri": "https://localhost:8080/"
        },
        "id": "AkEQa6uLkpwj",
        "outputId": "c897447c-3c74-4b66-91f2-0a004520cfee"
      },
      "outputs": [
        {
          "output_type": "stream",
          "name": "stdout",
          "text": [
            "+------+------+\n",
            "|target| count|\n",
            "+------+------+\n",
            "|     1|800000|\n",
            "|     0|800000|\n",
            "+------+------+\n",
            "\n"
          ]
        }
      ],
      "source": [
        "# Remplacer toutes les occurrences de 4 dans la colonne 'target' par 1\n",
        "data = data.withColumn('target', when(col('target') == 4, 1).otherwise(col('target')))\n",
        "\n",
        "# Compter le nombre d'occurrences de chaque valeur unique dans la colonne \"target\"\n",
        "data.groupBy(\"target\").count().show()"
      ]
    },
    {
      "cell_type": "code",
      "execution_count": null,
      "metadata": {
        "colab": {
          "base_uri": "https://localhost:8080/"
        },
        "id": "jhYN-FMizFmp",
        "outputId": "9d38dee5-b630-4124-be6f-3846dd99de05"
      },
      "outputs": [
        {
          "output_type": "stream",
          "name": "stdout",
          "text": [
            "+------+----+\n",
            "|target|text|\n",
            "+------+----+\n",
            "+------+----+\n",
            "\n"
          ]
        }
      ],
      "source": [
        "data.filter(col(\"target\").isNull() | col(\"text\").isNull()).show()"
      ]
    },
    {
      "cell_type": "markdown",
      "metadata": {
        "id": "tbiiDZenGeqk"
      },
      "source": [
        "# Data Cleaning :"
      ]
    },
    {
      "cell_type": "code",
      "execution_count": null,
      "metadata": {
        "colab": {
          "base_uri": "https://localhost:8080/"
        },
        "id": "brNcpTLHFo8b",
        "outputId": "1ffb9fae-29d6-4ca4-c430-7ae02dec6461"
      },
      "outputs": [
        {
          "output_type": "stream",
          "name": "stdout",
          "text": [
            "+------+---------------------------------------------------------------------------------------------------------------------+\n",
            "|target|text                                                                                                                 |\n",
            "+------+---------------------------------------------------------------------------------------------------------------------+\n",
            "|0     |@switchfoot http://twitpic.com/2y1zl - Awww, that's a bummer.  You shoulda got David Carr of Third Day to do it. ;D  |\n",
            "|0     |is upset that he can't update his Facebook by texting it... and might cry as a result  School today also. Blah!      |\n",
            "|0     |@Kenichan I dived many times for the ball. Managed to save 50%  The rest go out of bounds                            |\n",
            "|0     |my whole body feels itchy and like its on fire                                                                       |\n",
            "|0     |@nationwideclass no, it's not behaving at all. i'm mad. why am i here? because I can't see you all over there.       |\n",
            "|0     |@Kwesidei not the whole crew                                                                                         |\n",
            "|0     |Need a hug                                                                                                           |\n",
            "|0     |@LOLTrish hey  long time no see! Yes.. Rains a bit ,only a bit  LOL , I'm fine thanks , how's you ?                  |\n",
            "|0     |@Tatiana_K nope they didn't have it                                                                                  |\n",
            "|0     |@twittera que me muera ?                                                                                             |\n",
            "|0     |spring break in plain city... it's snowing                                                                           |\n",
            "|0     |I just re-pierced my ears                                                                                            |\n",
            "|0     |@caregiving I couldn't bear to watch it.  And I thought the UA loss was embarrassing . . . . .                       |\n",
            "|0     |@octolinz16 It it counts, idk why I did either. you never talk to me anymore                                         |\n",
            "|0     |@smarrison i would've been the first, but i didn't have a gun.    not really though, zac snyder's just a doucheclown.|\n",
            "|0     |@iamjazzyfizzle I wish I got to watch it with you!! I miss you and @iamlilnicki  how was the premiere?!              |\n",
            "|0     |Hollis' death scene will hurt me severely to watch on film  wry is directors cut not out now?                        |\n",
            "|0     |about to file taxes                                                                                                  |\n",
            "|0     |@LettyA ahh ive always wanted to see rent  love the soundtrack!!                                                     |\n",
            "|0     |@FakerPattyPattz Oh dear. Were you drinking out of the forgotten table drinks?                                       |\n",
            "+------+---------------------------------------------------------------------------------------------------------------------+\n",
            "only showing top 20 rows\n",
            "\n"
          ]
        }
      ],
      "source": [
        "data.show(truncate=False)"
      ]
    },
    {
      "cell_type": "code",
      "execution_count": null,
      "metadata": {
        "id": "iFDp26_9GI3W"
      },
      "outputs": [],
      "source": [
        "# Définir l'expression régulière pour enlever les mentions, les liens et les caractères non alphabétiques\n",
        "text_cleaning_re = \"@\\S+|https?:\\S+|http?:\\S|[^A-Za-z]+\"\n",
        "\n",
        "# @\\S+  : correspond à tout texte qui commence par un '@' suivi d'un ou plusieurs caractères qui ne sont pas un espace blanc.\n",
        "# https?:\\S+ :  correspond à tout texte qui commence par 'http' ou 'https', suivi d'un ':' et d'un ou plusieurs caractères qui ne sont pas un espace blanc.\n",
        "# [^A-Za-z]+ : correspond à tout caractère qui n'est pas une lettre majuscule ou minuscule\n",
        "\n",
        "# Définir une fonction UDF pour nettoyer le texte\n",
        "def text_cleaning(text):\n",
        "    text = re.sub(text_cleaning_re, ' ', str(text).lower()).strip()\n",
        "    return text"
      ]
    },
    {
      "cell_type": "code",
      "execution_count": null,
      "metadata": {
        "id": "6sdDCSlbGQzR"
      },
      "outputs": [],
      "source": [
        "# Création d'une fonction UDF  à partir de la fonction 'text_cleaning' définie précédemment.\n",
        "# La fonction UDF permet de l'appliquer sur chaque ligne d'un DataFrame Spark.\n",
        "text_cleaning_udf = udf(text_cleaning, StringType())\n",
        "\n",
        "# Appliquer la fonction UDF 'text_cleaning_udf' sur la colonne \"text\" du DataFrame 'data' et stocker le résultat dans une nouvelle colonne nommée \"clean_text\".\n",
        "data = data.withColumn(\"clean_text\", text_cleaning_udf(\"text\"))"
      ]
    },
    {
      "cell_type": "code",
      "execution_count": null,
      "metadata": {
        "colab": {
          "base_uri": "https://localhost:8080/"
        },
        "id": "4DsepeO8GXcP",
        "outputId": "134b2499-1cda-43dc-c1ec-b6d19d75cea4"
      },
      "outputs": [
        {
          "output_type": "stream",
          "name": "stdout",
          "text": [
            "+------+---------------------------------------------------------------------------------------------------------------------+---------------------------------------------------------------------------------------------------------+\n",
            "|target|text                                                                                                                 |clean_text                                                                                               |\n",
            "+------+---------------------------------------------------------------------------------------------------------------------+---------------------------------------------------------------------------------------------------------+\n",
            "|0     |@switchfoot http://twitpic.com/2y1zl - Awww, that's a bummer.  You shoulda got David Carr of Third Day to do it. ;D  |awww that s a bummer you shoulda got david carr of third day to do it d                                  |\n",
            "|0     |is upset that he can't update his Facebook by texting it... and might cry as a result  School today also. Blah!      |is upset that he can t update his facebook by texting it and might cry as a result school today also blah|\n",
            "|0     |@Kenichan I dived many times for the ball. Managed to save 50%  The rest go out of bounds                            |i dived many times for the ball managed to save 50 the rest go out of bounds                             |\n",
            "|0     |my whole body feels itchy and like its on fire                                                                       |my whole body feels itchy and like its on fire                                                           |\n",
            "|0     |@nationwideclass no, it's not behaving at all. i'm mad. why am i here? because I can't see you all over there.       |no it s not behaving at all i m mad why am i here because i can t see you all over there                 |\n",
            "|0     |@Kwesidei not the whole crew                                                                                         |not the whole crew                                                                                       |\n",
            "|0     |Need a hug                                                                                                           |need a hug                                                                                               |\n",
            "|0     |@LOLTrish hey  long time no see! Yes.. Rains a bit ,only a bit  LOL , I'm fine thanks , how's you ?                  |hey long time no see yes rains a bit only a bit lol i m fine thanks how s you                            |\n",
            "|0     |@Tatiana_K nope they didn't have it                                                                                  |nope they didn t have it                                                                                 |\n",
            "|0     |@twittera que me muera ?                                                                                             |que me muera                                                                                             |\n",
            "|0     |spring break in plain city... it's snowing                                                                           |spring break in plain city it s snowing                                                                  |\n",
            "|0     |I just re-pierced my ears                                                                                            |i just re pierced my ears                                                                                |\n",
            "|0     |@caregiving I couldn't bear to watch it.  And I thought the UA loss was embarrassing . . . . .                       |i couldn t bear to watch it and i thought the ua loss was embarrassing                                   |\n",
            "|0     |@octolinz16 It it counts, idk why I did either. you never talk to me anymore                                         |it it counts idk why i did either you never talk to me anymore                                           |\n",
            "|0     |@smarrison i would've been the first, but i didn't have a gun.    not really though, zac snyder's just a doucheclown.|i would ve been the first but i didn t have a gun not really though zac snyder s just a doucheclown      |\n",
            "|0     |@iamjazzyfizzle I wish I got to watch it with you!! I miss you and @iamlilnicki  how was the premiere?!              |i wish i got to watch it with you i miss you and iamlilnicki how was the premiere                        |\n",
            "|0     |Hollis' death scene will hurt me severely to watch on film  wry is directors cut not out now?                        |hollis death scene will hurt me severely to watch on film wry is directors cut not out now               |\n",
            "|0     |about to file taxes                                                                                                  |about to file taxes                                                                                      |\n",
            "|0     |@LettyA ahh ive always wanted to see rent  love the soundtrack!!                                                     |ahh ive always wanted to see rent love the soundtrack                                                    |\n",
            "|0     |@FakerPattyPattz Oh dear. Were you drinking out of the forgotten table drinks?                                       |oh dear were you drinking out of the forgotten table drinks                                              |\n",
            "+------+---------------------------------------------------------------------------------------------------------------------+---------------------------------------------------------------------------------------------------------+\n",
            "only showing top 20 rows\n",
            "\n"
          ]
        }
      ],
      "source": [
        "data.show(truncate=False)"
      ]
    },
    {
      "cell_type": "code",
      "execution_count": null,
      "metadata": {
        "id": "rfN4bdvJIWAv"
      },
      "outputs": [],
      "source": [
        "data= data.drop(\"text\")"
      ]
    },
    {
      "cell_type": "code",
      "execution_count": null,
      "metadata": {
        "id": "a02aR3lKIsfx"
      },
      "outputs": [],
      "source": [
        "# changer le nom de la colonne \"clean_text\" au \"texte\"\n",
        "data = data.withColumnRenamed(\"clean_text\", \"text\")"
      ]
    },
    {
      "cell_type": "code",
      "execution_count": null,
      "metadata": {
        "colab": {
          "base_uri": "https://localhost:8080/"
        },
        "id": "V0Jblh8oI4yf",
        "outputId": "12da5dbe-36d5-467c-c1d1-6b82452f0ea5"
      },
      "outputs": [
        {
          "output_type": "stream",
          "name": "stdout",
          "text": [
            "+------+---------------------------------------------------------------------------------------------------------+\n",
            "|target|text                                                                                                     |\n",
            "+------+---------------------------------------------------------------------------------------------------------+\n",
            "|0     |awww that s a bummer you shoulda got david carr of third day to do it d                                  |\n",
            "|0     |is upset that he can t update his facebook by texting it and might cry as a result school today also blah|\n",
            "|0     |i dived many times for the ball managed to save 50 the rest go out of bounds                             |\n",
            "|0     |my whole body feels itchy and like its on fire                                                           |\n",
            "|0     |no it s not behaving at all i m mad why am i here because i can t see you all over there                 |\n",
            "|0     |not the whole crew                                                                                       |\n",
            "|0     |need a hug                                                                                               |\n",
            "|0     |hey long time no see yes rains a bit only a bit lol i m fine thanks how s you                            |\n",
            "|0     |nope they didn t have it                                                                                 |\n",
            "|0     |que me muera                                                                                             |\n",
            "|0     |spring break in plain city it s snowing                                                                  |\n",
            "|0     |i just re pierced my ears                                                                                |\n",
            "|0     |i couldn t bear to watch it and i thought the ua loss was embarrassing                                   |\n",
            "|0     |it it counts idk why i did either you never talk to me anymore                                           |\n",
            "|0     |i would ve been the first but i didn t have a gun not really though zac snyder s just a doucheclown      |\n",
            "|0     |i wish i got to watch it with you i miss you and iamlilnicki how was the premiere                        |\n",
            "|0     |hollis death scene will hurt me severely to watch on film wry is directors cut not out now               |\n",
            "|0     |about to file taxes                                                                                      |\n",
            "|0     |ahh ive always wanted to see rent love the soundtrack                                                    |\n",
            "|0     |oh dear were you drinking out of the forgotten table drinks                                              |\n",
            "+------+---------------------------------------------------------------------------------------------------------+\n",
            "only showing top 20 rows\n",
            "\n"
          ]
        }
      ],
      "source": [
        "data.show(truncate=False)"
      ]
    },
    {
      "cell_type": "markdown",
      "metadata": {
        "id": "HvV6qh3tcOAg"
      },
      "source": [
        "# Remove letters"
      ]
    },
    {
      "cell_type": "code",
      "execution_count": null,
      "metadata": {
        "id": "WfzQ5oEReIGm"
      },
      "outputs": [],
      "source": [
        "# enlever  les mots de texte ayant une longueur inférieure à deux caractères .\n",
        "\n",
        "def join_words(text):\n",
        "    return ' '.join([w for w in text.split() if len(w) > 2])\n",
        "\n",
        "join_words_udf = udf(join_words, StringType())\n",
        "\n",
        "data = data.withColumn(\"text_len\", join_words_udf(\"text\"))\n",
        "\n",
        "data= data.drop(\"text\")\n",
        "\n",
        "data = data.withColumnRenamed(\"text_len\", \"text\")"
      ]
    },
    {
      "cell_type": "code",
      "execution_count": null,
      "metadata": {
        "colab": {
          "base_uri": "https://localhost:8080/"
        },
        "id": "hr7Xbto7xKGP",
        "outputId": "d159bc45-1a9e-48dd-e1d1-4a45ba429574"
      },
      "outputs": [
        {
          "output_type": "stream",
          "name": "stdout",
          "text": [
            "+------+--------------------------------------------------------------------------------------+\n",
            "|target|text                                                                                  |\n",
            "+------+--------------------------------------------------------------------------------------+\n",
            "|0     |awww that bummer you shoulda got david carr third day                                 |\n",
            "|0     |upset that can update his facebook texting and might cry result school today also blah|\n",
            "|0     |dived many times for the ball managed save the rest out bounds                        |\n",
            "|0     |whole body feels itchy and like its fire                                              |\n",
            "|0     |not behaving all mad why here because can see you all over there                      |\n",
            "|0     |not the whole crew                                                                    |\n",
            "|0     |need hug                                                                              |\n",
            "|0     |hey long time see yes rains bit only bit lol fine thanks how you                      |\n",
            "|0     |nope they didn have                                                                   |\n",
            "|0     |que muera                                                                             |\n",
            "|0     |spring break plain city snowing                                                       |\n",
            "|0     |just pierced ears                                                                     |\n",
            "|0     |couldn bear watch and thought the loss was embarrassing                               |\n",
            "|0     |counts idk why did either you never talk anymore                                      |\n",
            "|0     |would been the first but didn have gun not really though zac snyder just doucheclown  |\n",
            "|0     |wish got watch with you miss you and iamlilnicki how was the premiere                 |\n",
            "|0     |hollis death scene will hurt severely watch film wry directors cut not out now        |\n",
            "|0     |about file taxes                                                                      |\n",
            "|0     |ahh ive always wanted see rent love the soundtrack                                    |\n",
            "|0     |dear were you drinking out the forgotten table drinks                                 |\n",
            "+------+--------------------------------------------------------------------------------------+\n",
            "only showing top 20 rows\n",
            "\n"
          ]
        }
      ],
      "source": [
        "data.show(truncate=False)"
      ]
    },
    {
      "cell_type": "markdown",
      "metadata": {
        "id": "S3wYu58i1fSJ"
      },
      "source": [
        "# Tokenazation"
      ]
    },
    {
      "cell_type": "code",
      "execution_count": null,
      "metadata": {
        "id": "NPZnBPZpxKIo"
      },
      "outputs": [],
      "source": [
        "# Définir le tokenizer avec les paramètres appropriés\n",
        "tokenizer = RegexTokenizer(inputCol=\"text\", outputCol=\"words\", pattern=\"\\W\")\n",
        "\n",
        "# Appliquer le tokenizer au dataframe en utilisant transform :\n",
        "data = tokenizer.transform(data)\n"
      ]
    },
    {
      "cell_type": "code",
      "execution_count": null,
      "metadata": {
        "colab": {
          "base_uri": "https://localhost:8080/"
        },
        "id": "hYv_e1uZ0BEM",
        "outputId": "e2ad4541-ba13-4b30-c042-367014b58194"
      },
      "outputs": [
        {
          "output_type": "stream",
          "name": "stdout",
          "text": [
            "+------+--------------------------------------------------------------------------------------+------------------------------------------------------------------------------------------------------+\n",
            "|target|text                                                                                  |words                                                                                                 |\n",
            "+------+--------------------------------------------------------------------------------------+------------------------------------------------------------------------------------------------------+\n",
            "|0     |awww that bummer you shoulda got david carr third day                                 |[awww, that, bummer, you, shoulda, got, david, carr, third, day]                                      |\n",
            "|0     |upset that can update his facebook texting and might cry result school today also blah|[upset, that, can, update, his, facebook, texting, and, might, cry, result, school, today, also, blah]|\n",
            "|0     |dived many times for the ball managed save the rest out bounds                        |[dived, many, times, for, the, ball, managed, save, the, rest, out, bounds]                           |\n",
            "|0     |whole body feels itchy and like its fire                                              |[whole, body, feels, itchy, and, like, its, fire]                                                     |\n",
            "|0     |not behaving all mad why here because can see you all over there                      |[not, behaving, all, mad, why, here, because, can, see, you, all, over, there]                        |\n",
            "|0     |not the whole crew                                                                    |[not, the, whole, crew]                                                                               |\n",
            "|0     |need hug                                                                              |[need, hug]                                                                                           |\n",
            "|0     |hey long time see yes rains bit only bit lol fine thanks how you                      |[hey, long, time, see, yes, rains, bit, only, bit, lol, fine, thanks, how, you]                       |\n",
            "|0     |nope they didn have                                                                   |[nope, they, didn, have]                                                                              |\n",
            "|0     |que muera                                                                             |[que, muera]                                                                                          |\n",
            "|0     |spring break plain city snowing                                                       |[spring, break, plain, city, snowing]                                                                 |\n",
            "|0     |just pierced ears                                                                     |[just, pierced, ears]                                                                                 |\n",
            "|0     |couldn bear watch and thought the loss was embarrassing                               |[couldn, bear, watch, and, thought, the, loss, was, embarrassing]                                     |\n",
            "|0     |counts idk why did either you never talk anymore                                      |[counts, idk, why, did, either, you, never, talk, anymore]                                            |\n",
            "|0     |would been the first but didn have gun not really though zac snyder just doucheclown  |[would, been, the, first, but, didn, have, gun, not, really, though, zac, snyder, just, doucheclown]  |\n",
            "|0     |wish got watch with you miss you and iamlilnicki how was the premiere                 |[wish, got, watch, with, you, miss, you, and, iamlilnicki, how, was, the, premiere]                   |\n",
            "|0     |hollis death scene will hurt severely watch film wry directors cut not out now        |[hollis, death, scene, will, hurt, severely, watch, film, wry, directors, cut, not, out, now]         |\n",
            "|0     |about file taxes                                                                      |[about, file, taxes]                                                                                  |\n",
            "|0     |ahh ive always wanted see rent love the soundtrack                                    |[ahh, ive, always, wanted, see, rent, love, the, soundtrack]                                          |\n",
            "|0     |dear were you drinking out the forgotten table drinks                                 |[dear, were, you, drinking, out, the, forgotten, table, drinks]                                       |\n",
            "+------+--------------------------------------------------------------------------------------+------------------------------------------------------------------------------------------------------+\n",
            "only showing top 20 rows\n",
            "\n"
          ]
        }
      ],
      "source": [
        "data.show(truncate=False)"
      ]
    },
    {
      "cell_type": "code",
      "execution_count": null,
      "metadata": {
        "id": "8cJ-7yrb0BHA"
      },
      "outputs": [],
      "source": [
        "data= data.drop(\"text\")\n",
        "data = data.withColumnRenamed(\"words\", \"text\")"
      ]
    },
    {
      "cell_type": "code",
      "execution_count": null,
      "metadata": {
        "colab": {
          "base_uri": "https://localhost:8080/"
        },
        "id": "Geh8lyJXxKMa",
        "outputId": "39b272f7-6944-4990-fef2-0f269a40f589"
      },
      "outputs": [
        {
          "output_type": "stream",
          "name": "stdout",
          "text": [
            "+------+------------------------------------------------------------------------------------------------------+\n",
            "|target|text                                                                                                  |\n",
            "+------+------------------------------------------------------------------------------------------------------+\n",
            "|0     |[awww, that, bummer, you, shoulda, got, david, carr, third, day]                                      |\n",
            "|0     |[upset, that, can, update, his, facebook, texting, and, might, cry, result, school, today, also, blah]|\n",
            "|0     |[dived, many, times, for, the, ball, managed, save, the, rest, out, bounds]                           |\n",
            "|0     |[whole, body, feels, itchy, and, like, its, fire]                                                     |\n",
            "|0     |[not, behaving, all, mad, why, here, because, can, see, you, all, over, there]                        |\n",
            "|0     |[not, the, whole, crew]                                                                               |\n",
            "|0     |[need, hug]                                                                                           |\n",
            "|0     |[hey, long, time, see, yes, rains, bit, only, bit, lol, fine, thanks, how, you]                       |\n",
            "|0     |[nope, they, didn, have]                                                                              |\n",
            "|0     |[que, muera]                                                                                          |\n",
            "|0     |[spring, break, plain, city, snowing]                                                                 |\n",
            "|0     |[just, pierced, ears]                                                                                 |\n",
            "|0     |[couldn, bear, watch, and, thought, the, loss, was, embarrassing]                                     |\n",
            "|0     |[counts, idk, why, did, either, you, never, talk, anymore]                                            |\n",
            "|0     |[would, been, the, first, but, didn, have, gun, not, really, though, zac, snyder, just, doucheclown]  |\n",
            "|0     |[wish, got, watch, with, you, miss, you, and, iamlilnicki, how, was, the, premiere]                   |\n",
            "|0     |[hollis, death, scene, will, hurt, severely, watch, film, wry, directors, cut, not, out, now]         |\n",
            "|0     |[about, file, taxes]                                                                                  |\n",
            "|0     |[ahh, ive, always, wanted, see, rent, love, the, soundtrack]                                          |\n",
            "|0     |[dear, were, you, drinking, out, the, forgotten, table, drinks]                                       |\n",
            "+------+------------------------------------------------------------------------------------------------------+\n",
            "only showing top 20 rows\n",
            "\n"
          ]
        }
      ],
      "source": [
        "data.show(truncate=False)"
      ]
    },
    {
      "cell_type": "markdown",
      "metadata": {
        "id": "MTy5a8LW1lx7"
      },
      "source": [
        "# Remove Stopwords"
      ]
    },
    {
      "cell_type": "code",
      "execution_count": null,
      "metadata": {
        "id": "Q-aKcF6e0rX2"
      },
      "outputs": [],
      "source": [
        "# Créer un objet StopWordsRemover\n",
        "remover = StopWordsRemover(inputCol=\"text\", outputCol=\"text_without_stopwords\")\n",
        "\n",
        "# Appliquer la transformation\n",
        "data = remover.transform(data).select(\"*\")"
      ]
    },
    {
      "cell_type": "code",
      "execution_count": null,
      "metadata": {
        "id": "twRZgsMS0r_V"
      },
      "outputs": [],
      "source": [
        "data= data.drop(\"text\")\n",
        "data = data.withColumnRenamed(\"text_without_stopwords\", \"text\")"
      ]
    },
    {
      "cell_type": "code",
      "execution_count": null,
      "metadata": {
        "colab": {
          "base_uri": "https://localhost:8080/"
        },
        "id": "hal5Vy5n0sB6",
        "outputId": "935d12b0-b819-4d01-ee55-37d1fdbbf863"
      },
      "outputs": [
        {
          "output_type": "stream",
          "name": "stdout",
          "text": [
            "+------+---------------------------------------------------------------------------------+\n",
            "|target|text                                                                             |\n",
            "+------+---------------------------------------------------------------------------------+\n",
            "|0     |[awww, bummer, shoulda, got, david, carr, third, day]                            |\n",
            "|0     |[upset, update, facebook, texting, might, cry, result, school, today, also, blah]|\n",
            "|0     |[dived, many, times, ball, managed, save, rest, bounds]                          |\n",
            "|0     |[whole, body, feels, itchy, like, fire]                                          |\n",
            "|0     |[behaving, mad, see]                                                             |\n",
            "|0     |[whole, crew]                                                                    |\n",
            "|0     |[need, hug]                                                                      |\n",
            "|0     |[hey, long, time, see, yes, rains, bit, bit, lol, fine, thanks]                  |\n",
            "|0     |[nope, didn]                                                                     |\n",
            "|0     |[que, muera]                                                                     |\n",
            "|0     |[spring, break, plain, city, snowing]                                            |\n",
            "|0     |[pierced, ears]                                                                  |\n",
            "|0     |[couldn, bear, watch, thought, loss, embarrassing]                               |\n",
            "|0     |[counts, idk, either, never, talk, anymore]                                      |\n",
            "|0     |[first, didn, gun, really, though, zac, snyder, doucheclown]                     |\n",
            "|0     |[wish, got, watch, miss, iamlilnicki, premiere]                                  |\n",
            "|0     |[hollis, death, scene, hurt, severely, watch, film, wry, directors, cut]         |\n",
            "|0     |[file, taxes]                                                                    |\n",
            "|0     |[ahh, ive, always, wanted, see, rent, love, soundtrack]                          |\n",
            "|0     |[dear, drinking, forgotten, table, drinks]                                       |\n",
            "+------+---------------------------------------------------------------------------------+\n",
            "only showing top 20 rows\n",
            "\n"
          ]
        }
      ],
      "source": [
        "data.show(truncate=False)"
      ]
    },
    {
      "cell_type": "markdown",
      "metadata": {
        "id": "QysjT51mpXIK"
      },
      "source": [
        "# Lemmatization"
      ]
    },
    {
      "cell_type": "code",
      "execution_count": null,
      "metadata": {
        "id": "ao4yyhLSiBhD"
      },
      "outputs": [],
      "source": [
        "# Définir le lemmatizer\n",
        "lemmatizer = WordNetLemmatizer()\n",
        "\n",
        "# Fonction de lemmatisation pour traiter une liste de phrases\n",
        "def lemmatize(phrases):\n",
        "    # Initialiser une liste pour stocker les phrases lemmatisées\n",
        "    lemmatized_phrases = []\n",
        "\n",
        "    # Parcourir chaque phrase dans la liste\n",
        "    for phrase in phrases:\n",
        "        # Séparer la phrase en mots individuels\n",
        "        words = phrase.split()\n",
        "        # Initialiser une liste pour stocker les mots lemmatisés\n",
        "        lemmatized_words = []\n",
        "        # Parcourir chaque mot dans la phrase\n",
        "        for word in words:\n",
        "\n",
        "            # Appliquer la lemmatisation sur chaque mot\n",
        "            lemma = lemmatizer.lemmatize(word.lower())\n",
        "            # Ajouter le mot lemmatisé à la liste\n",
        "            lemmatized_words.append(lemma)\n",
        "\n",
        "        # Joindre les mots lemmatisés pour former la phrase lemmatisée\n",
        "        lemmatized_phrase = ' '.join(lemmatized_words)\n",
        "        # Ajouter la phrase lemmatisée à la liste\n",
        "        lemmatized_phrases.append(lemmatized_phrase)\n",
        "\n",
        "    return lemmatized_phrases\n",
        "\n",
        "\n",
        "# Définir la fonction UDF\n",
        "lemmatize_udf = udf(lemmatize, ArrayType(StringType()))\n",
        "\n",
        "# Appliquer la fonction UDF sur la colonne de texte\n",
        "data = data.withColumn(\"lemmatized_text\", lemmatize_udf(\"text\"))"
      ]
    },
    {
      "cell_type": "code",
      "execution_count": null,
      "metadata": {
        "id": "uONhVwvAmUN-"
      },
      "outputs": [],
      "source": [
        "data = data.drop(\"text\")\n",
        "data = data.withColumnRenamed(\"lemmatized_text\", \"text\")"
      ]
    },
    {
      "cell_type": "code",
      "execution_count": null,
      "metadata": {
        "colab": {
          "base_uri": "https://localhost:8080/"
        },
        "id": "fF4i6nmLnrp9",
        "outputId": "1eb4ca58-0a3f-4252-f27e-f16c380ee97c"
      },
      "outputs": [
        {
          "output_type": "stream",
          "name": "stdout",
          "text": [
            "+------+---------------------------------------------------------------------------------+\n",
            "|target|text                                                                             |\n",
            "+------+---------------------------------------------------------------------------------+\n",
            "|0     |[awww, bummer, shoulda, got, david, carr, third, day]                            |\n",
            "|0     |[upset, update, facebook, texting, might, cry, result, school, today, also, blah]|\n",
            "|0     |[dived, many, time, ball, managed, save, rest, bound]                            |\n",
            "|0     |[whole, body, feel, itchy, like, fire]                                           |\n",
            "|0     |[behaving, mad, see]                                                             |\n",
            "|0     |[whole, crew]                                                                    |\n",
            "|0     |[need, hug]                                                                      |\n",
            "|0     |[hey, long, time, see, yes, rain, bit, bit, lol, fine, thanks]                   |\n",
            "|0     |[nope, didn]                                                                     |\n",
            "|0     |[que, muera]                                                                     |\n",
            "|0     |[spring, break, plain, city, snowing]                                            |\n",
            "|0     |[pierced, ear]                                                                   |\n",
            "|0     |[couldn, bear, watch, thought, loss, embarrassing]                               |\n",
            "|0     |[count, idk, either, never, talk, anymore]                                       |\n",
            "|0     |[first, didn, gun, really, though, zac, snyder, doucheclown]                     |\n",
            "|0     |[wish, got, watch, miss, iamlilnicki, premiere]                                  |\n",
            "|0     |[hollis, death, scene, hurt, severely, watch, film, wry, director, cut]          |\n",
            "|0     |[file, tax]                                                                      |\n",
            "|0     |[ahh, ive, always, wanted, see, rent, love, soundtrack]                          |\n",
            "|0     |[dear, drinking, forgotten, table, drink]                                        |\n",
            "+------+---------------------------------------------------------------------------------+\n",
            "only showing top 20 rows\n",
            "\n"
          ]
        }
      ],
      "source": [
        "data.show(truncate=False)"
      ]
    },
    {
      "cell_type": "markdown",
      "source": [
        "**Concaténer une liste de chaînes de caractères en une seule chaîne**"
      ],
      "metadata": {
        "id": "mUuocuWWIJFt"
      }
    },
    {
      "cell_type": "code",
      "execution_count": null,
      "metadata": {
        "id": "MM2Oup6XLkYP"
      },
      "outputs": [],
      "source": [
        "# Définir une fonction pour joindre une liste de chaînes de caractères en une seule chaîne de caractères\n",
        "def join_strings(lst):\n",
        "    return \" \".join(lst)\n",
        "\n",
        "\n",
        "#Créer une UDF à partir de la fonction\n",
        "join_strings_udf = udf(join_strings, StringType())\n",
        "\n",
        "# Appliquez l'UDF à la colonne text.\n",
        "data = data.withColumn(\"text_character\", join_strings_udf(\"text\"))"
      ]
    },
    {
      "cell_type": "code",
      "execution_count": null,
      "metadata": {
        "id": "mYO1LTDpMIIP"
      },
      "outputs": [],
      "source": [
        "data = data.drop(\"text\")"
      ]
    },
    {
      "cell_type": "code",
      "execution_count": null,
      "metadata": {
        "id": "hi4DJp_LMR6p"
      },
      "outputs": [],
      "source": [
        "data = data.withColumnRenamed(\"text_character\", \"text\")"
      ]
    },
    {
      "cell_type": "code",
      "execution_count": null,
      "metadata": {
        "colab": {
          "base_uri": "https://localhost:8080/"
        },
        "id": "Xks6xh68MddN",
        "outputId": "b16fa9ce-e44d-41d6-8e43-3fadea6d66e3"
      },
      "outputs": [
        {
          "output_type": "stream",
          "name": "stdout",
          "text": [
            "+------+---------------------------------------------------------------------+\n",
            "|target|text                                                                 |\n",
            "+------+---------------------------------------------------------------------+\n",
            "|0     |awww bummer shoulda got david carr third day                         |\n",
            "|0     |upset update facebook texting might cry result school today also blah|\n",
            "|0     |dived many time ball managed save rest bound                         |\n",
            "|0     |whole body feel itchy like fire                                      |\n",
            "|0     |behaving mad see                                                     |\n",
            "|0     |whole crew                                                           |\n",
            "|0     |need hug                                                             |\n",
            "|0     |hey long time see yes rain bit bit lol fine thanks                   |\n",
            "|0     |nope didn                                                            |\n",
            "|0     |que muera                                                            |\n",
            "|0     |spring break plain city snowing                                      |\n",
            "|0     |pierced ear                                                          |\n",
            "|0     |couldn bear watch thought loss embarrassing                          |\n",
            "|0     |count idk either never talk anymore                                  |\n",
            "|0     |first didn gun really though zac snyder doucheclown                  |\n",
            "|0     |wish got watch miss iamlilnicki premiere                             |\n",
            "|0     |hollis death scene hurt severely watch film wry director cut         |\n",
            "|0     |file tax                                                             |\n",
            "|0     |ahh ive always wanted see rent love soundtrack                       |\n",
            "|0     |dear drinking forgotten table drink                                  |\n",
            "+------+---------------------------------------------------------------------+\n",
            "only showing top 20 rows\n",
            "\n"
          ]
        }
      ],
      "source": [
        "data.show(truncate=False)"
      ]
    },
    {
      "cell_type": "markdown",
      "metadata": {
        "id": "9oR9b0AidaEl"
      },
      "source": [
        "# Prendre 150000 instance de chaque classe"
      ]
    },
    {
      "cell_type": "code",
      "execution_count": null,
      "metadata": {
        "id": "5cJiIL7x8kb5"
      },
      "outputs": [],
      "source": [
        "data_0 = data.filter(col(\"target\")==0).orderBy(rand()).limit(150000)"
      ]
    },
    {
      "cell_type": "code",
      "execution_count": null,
      "metadata": {
        "id": "tsBqOYma51Zv"
      },
      "outputs": [],
      "source": [
        "data_1 = data.filter(col(\"target\") == 1).orderBy(rand()).limit(150000)"
      ]
    },
    {
      "cell_type": "code",
      "execution_count": null,
      "metadata": {
        "id": "W6eTo5wx6UlH"
      },
      "outputs": [],
      "source": [
        "data = data_0.union(data_1)"
      ]
    },
    {
      "cell_type": "code",
      "execution_count": null,
      "metadata": {
        "colab": {
          "base_uri": "https://localhost:8080/"
        },
        "id": "aO2FDUTm6YLj",
        "outputId": "064fcf01-6656-4d5b-9a56-41571c8ad39e"
      },
      "outputs": [
        {
          "output_type": "stream",
          "name": "stdout",
          "text": [
            "+------+------+\n",
            "|target| count|\n",
            "+------+------+\n",
            "|     0|150000|\n",
            "|     1|150000|\n",
            "+------+------+\n",
            "\n"
          ]
        }
      ],
      "source": [
        "data.groupBy(\"target\").count().show()"
      ]
    },
    {
      "cell_type": "code",
      "execution_count": null,
      "metadata": {
        "colab": {
          "base_uri": "https://localhost:8080/"
        },
        "id": "JBKOJMrr-Jpt",
        "outputId": "f84ec831-05c5-47cb-8eb7-beb41f63c49f"
      },
      "outputs": [
        {
          "output_type": "execute_result",
          "data": {
            "text/plain": [
              "300000"
            ]
          },
          "metadata": {},
          "execution_count": 43
        }
      ],
      "source": [
        "data.count()"
      ]
    },
    {
      "cell_type": "code",
      "execution_count": null,
      "metadata": {
        "colab": {
          "base_uri": "https://localhost:8080/"
        },
        "id": "Mu110r7I-wTU",
        "outputId": "be414eab-e47d-4f28-8c9c-e3c3048ae623"
      },
      "outputs": [
        {
          "output_type": "execute_result",
          "data": {
            "text/plain": [
              "['target', 'text']"
            ]
          },
          "metadata": {},
          "execution_count": 44
        }
      ],
      "source": [
        "data.columns"
      ]
    },
    {
      "cell_type": "markdown",
      "metadata": {
        "id": "u1Hhni16N1WO"
      },
      "source": [
        "# Vectorization"
      ]
    },
    {
      "cell_type": "code",
      "execution_count": null,
      "metadata": {
        "id": "nUb5VLIivxKb"
      },
      "outputs": [],
      "source": [
        "target = data.select(col('target'))\n",
        "X = data.select(col('text'))"
      ]
    },
    {
      "cell_type": "code",
      "execution_count": null,
      "metadata": {
        "colab": {
          "base_uri": "https://localhost:8080/"
        },
        "id": "ZVNQP55IRgS6",
        "outputId": "eb7003c0-4b40-4770-d9c0-98751aea2817"
      },
      "outputs": [
        {
          "output_type": "stream",
          "name": "stdout",
          "text": [
            "+-----------------------------------------------------------------------------------------------------------------------------------------------------------------------------------------------------------------------------------------------------------------------------------------------------------------------------------------------------------------------------------------------------------------------------------------------------------------------------------------------------------------------------------------------------------------------------------------------------------------------------------------------------------------------------------------------------------------------------------------------------------------------------------------------------------------------------------------------------------------------------------------------------------------------------------------------------------------------------------------------------------------------------------------------------------------------------------+\n",
            "|embedding                                                                                                                                                                                                                                                                                                                                                                                                                                                                                                                                                                                                                                                                                                                                                                                                                                                                                                                                                                                                                                                                          |\n",
            "+-----------------------------------------------------------------------------------------------------------------------------------------------------------------------------------------------------------------------------------------------------------------------------------------------------------------------------------------------------------------------------------------------------------------------------------------------------------------------------------------------------------------------------------------------------------------------------------------------------------------------------------------------------------------------------------------------------------------------------------------------------------------------------------------------------------------------------------------------------------------------------------------------------------------------------------------------------------------------------------------------------------------------------------------------------------------------------------+\n",
            "|[0.12118864554629129,-0.09191800653934479,-0.2412755090211119,0.030989560431667736,-0.2280059435537883,-0.07543437661869185,0.025066120816128593,0.04989361763000488,0.06098299526742526,-0.102775421791843,0.04860974156430789,0.13965034750955443,-0.05042791659278529,0.05081230574952704,0.018372153863310814,-0.028780002679143633,-0.08829444247697081,0.046053156921906126,0.029080198745110204,0.03731604527482497,-0.21073179904903683,-0.030786553264728612,0.07605327905288764,0.11735264983560358,-0.15712458001715796,-0.2845210837466376,-0.11270042023222361,0.07688533814091768,0.13582754773753028,-0.11509751741375242,-0.08318994460361344,0.2049973452729838,-0.07399475893804004,-0.22139174863696098,-0.0700157880783081,0.04544373927637935,-0.0484813813652311,-0.08261716285986559,-0.09953347593545914,0.16032009545181478,0.006821421507213796,-0.0737039100910936,0.26661238287176403,0.1063451780937612,0.07265219784208705,-0.03738263409052576,0.055251967161893845,-0.08879654970951378,-0.09141210466623306,0.1752077154815197]                   |\n",
            "|[0.16456669442016972,0.11038211345757273,-0.039117427680387416,0.12913375547875397,-0.029054154387929222,-0.13597963204268704,-0.06167316652665084,-3.6233555610206997E-4,-0.005044361068443819,-0.041349382224408066,0.0042378162033855915,0.04934572775594213,-0.08374041547490792,-0.06428532866464759,0.047755788969384,0.10072984377091582,0.03342693574218587,-0.06104027649218386,-0.057889702740464025,0.056432985023341396,0.03842839471657168,-0.07658682983707298,-0.02148686374791644,-0.013135788454250856,-0.1374579631638798,-0.12676589326425033,-0.010357049039819025,0.07331146011975678,0.07627603238109838,-0.07855861296411604,-0.06525299096988006,0.16679092035205528,-0.1393622036769309,0.03767425138291649,0.003496904264796864,0.09133675478568132,-0.09156409058381211,-0.01450259291397577,0.02696536396714774,-0.025103686906566676,-0.18080336863005703,0.05422243120318109,0.1696930541233583,0.09243708002296361,0.1124995548108762,0.08023068452761932,-0.07783213956281543,-0.14451548651876775,-0.022887478667226704,0.038753269663588566]     |\n",
            "|[0.18842953722923994,0.08415144914761186,-0.02187432802747935,-0.002422221004962921,-0.1225726546254009,-0.011110986932180822,-0.041006257641129196,-0.012996260658837855,-0.02391628734767437,0.052330521401017904,0.0573158789484296,0.07420152565464377,-0.02080801106058061,0.05433064233511686,-0.04534987290389836,0.18297294760122895,-0.177384328446351,0.04109087307006121,-0.05454724724404514,-0.0010715020034695044,0.04877076903358102,-0.19442280242219567,-0.027300200890749693,-0.20074929553084075,-0.11970495863351971,-0.040030112490057945,-0.120637699496001,0.08341535762883723,0.011126265861093998,-0.10677682235836983,-0.004208949947496876,0.0664712437428534,-0.033973794896155596,0.0740554363001138,-0.10348518495447934,0.10825310880318284,-0.01393116795225069,-0.2301049484522082,-0.07205231313128024,0.09117622254416347,-0.054420186090283096,0.022621755895670503,0.04205859830835834,0.16980407945811749,0.049360909732058644,-0.1078879750566557,0.039940394926816225,0.06928784426418133,-0.02412598635419272,0.03281597886234522]        |\n",
            "|[0.0786660648882389,0.017026960849761963,0.08053313940763474,0.21795978938462213,-0.1553002109285444,-0.11276394641026855,0.08100690320134163,0.1710124034434557,-0.08783756755292416,0.01156210619956255,0.053430551663041115,-0.07788488641381264,-0.10486425369163044,0.015817198436707258,0.0020600195275619626,0.10422102641314268,-0.0449517946690321,0.006729041459038854,5.167350172996521E-5,0.09022061200812459,-0.0021172078559175134,-0.04909444600343704,0.08212608256144449,0.126920685172081,0.051441702991724014,-0.07604566495865583,-0.010561398230493069,0.1599334580823779,0.24840667005628347,0.020788723835721612,-0.08410580549389124,0.02804477233439684,-0.14334304304793477,-0.14703290059696883,0.11448440980166197,-0.07592672295868397,-0.045194105128757656,-0.10100723523646593,-0.03538222424685955,0.13500144286081195,-0.17856813222169876,0.007179862819612026,0.061182654346339405,0.06474114488810301,0.11077325860969722,-0.06425703316926956,0.0127731217071414,-0.24024335853755474,0.005934384782449342,-0.04312806809321046]             |\n",
            "|[0.1587679072593649,-0.09971739305183291,-0.07301113940775394,-0.009719519255061943,0.007216263562440872,-0.027280937259395916,0.06217021386449535,0.09936488699167967,-0.0792838999380668,-0.03470926856001218,0.07859114091843367,0.003986441375066836,0.016723768707985677,-0.0034902413996557393,-0.06825900077819824,0.14009694010019302,-0.06601921042116979,0.008391632320126519,-0.1630198888791104,-0.004746415031452973,-0.04854174656793475,-0.1384759247303009,0.03296247776597738,0.12411209382116795,-0.09058897010982037,-0.1442970464316507,0.012845413138469059,-0.08506965241394937,0.04694268029804031,-0.09362015531708796,0.046410938569655016,0.10761493196090062,0.04077894861499468,0.13652479151884714,0.03556203834402064,-0.058988096890971065,0.03162482536087433,0.022183932519207396,-0.0618602077011019,-0.036572317204748586,-0.02387136019145449,-0.1015005203274389,0.15564025247779983,-0.01837156278391679,0.06891680120800932,0.04555658375223477,-0.14618639027078945,0.04345719050616026,-0.0197349622224768,0.06417904607951641]           |\n",
            "|[-0.20308193564414978,0.6523023694753647,0.11423918139189482,-0.034663811326026917,-0.17161303013563156,0.01647527888417244,-0.09780559688806534,0.1917702630162239,0.1057701800018549,0.006795108318328857,0.2236499786376953,0.4606741741299629,-0.17789827100932598,-0.38764557242393494,0.12913968972861767,-0.03884366154670715,0.30328747630119324,-0.4104199465364218,0.12914856802672148,-0.23958342522382736,0.04646461270749569,0.2418611915782094,-0.209001699462533,-0.2796384021639824,-0.5562914907932281,-0.33807117491960526,-0.21002704743295908,0.2571484073996544,-0.0559728629887104,-0.2678868919610977,-0.1745786489918828,0.4211396090686321,-0.21156566590070724,0.2288686796091497,-0.58238884806633,0.31846144795417786,-0.13121991232037544,-0.11441335082054138,-0.05965752899646759,4.376359283924103E-4,0.24508831650018692,0.35743714589625597,0.030758568085730076,-0.12048753793351352,0.26278752053622156,-0.1819700924679637,-0.08311883546411991,0.24132832325994968,-0.03980620205402374,-0.15361514617688954]                                |\n",
            "|[-0.002130657434463501,0.07580606639385223,-0.18834234704263508,-0.009651272790506482,-0.23967677354812622,-0.28622942045331,0.07528206892311573,0.20142557565122843,-0.010200997814536095,-0.13374781794846058,-0.02335035870783031,-0.026199048850685358,-0.09948836639523506,0.049985891208052635,-0.17641929630190134,-0.31586695462465286,-0.17897528037428856,0.0708706013392657,-0.02687891572713852,-0.023955747950822115,-0.17816781997680664,0.07515032961964607,-0.04343223851174116,-0.12135064974427223,-0.025586698204278946,-0.09933090209960938,-0.08381063491106033,0.07604259345680475,0.08960800804197788,0.05493682436645031,-0.012197837233543396,0.015969990519806743,-0.15622835233807564,-0.24695010483264923,0.07780723879113793,0.24275527149438858,-0.13757532835006714,-0.05366809785482474,-0.0342385193798691,0.20876846369355917,-0.05976825160905719,-0.1415248829871416,0.08760044816881418,0.13587864488363266,0.10214043149608187,0.09722568653523922,-0.1402739528566599,-0.0031542498618364334,-0.03520781174302101,0.08394061774015427]      |\n",
            "|[0.0,0.0,0.0,0.0,0.0,0.0,0.0,0.0,0.0,0.0,0.0,0.0,0.0,0.0,0.0,0.0,0.0,0.0,0.0,0.0,0.0,0.0,0.0,0.0,0.0,0.0,0.0,0.0,0.0,0.0,0.0,0.0,0.0,0.0,0.0,0.0,0.0,0.0,0.0,0.0,0.0,0.0,0.0,0.0,0.0,0.0,0.0,0.0,0.0,0.0]                                                                                                                                                                                                                                                                                                                                                                                                                                                                                                                                                                                                                                                                                                                                                                                                                                                                          |\n",
            "|[0.31774541176855564,0.12283676490187645,-0.04459708400827367,0.12607979495078325,-0.07031157694291323,-0.17714940663427114,-0.07135922648012638,0.02609858149662614,0.1188980364240706,-0.0132488664239645,0.13193343492457643,0.10886562522500753,-0.0769106475636363,0.07065121945925057,-0.02906589349731803,0.03428481239825487,0.05146803776733577,-0.03061307594180107,0.035194870084524155,0.01530375680886209,0.11679746909067035,-0.08458991820225492,-0.09060099674388766,0.05991973914206028,-0.20452896738424897,-0.13459211820736527,0.05638139694929123,0.17776262224651873,0.08538248622789979,-0.11551881860941648,-0.09761712187901139,0.22492469125427306,-0.22959030885249376,-0.13158466268214397,0.07591078104451299,0.10662846686318517,-0.10421437211334705,-0.025076508056372404,-0.07145515480078757,0.030502734236506512,-0.0665002977475524,-0.14067415749741485,0.14326389017514884,0.09595010569319129,-0.010703397798351943,0.01845369441434741,-0.025731130968779325,-0.07437006846885197,0.0010999580845236778,0.08289492223411798]               |\n",
            "|[0.004142921684043748,0.012260769626923969,-0.07822427160239645,0.05089845348681722,0.008596679594899926,0.060625273509815863,0.06310249928251972,-0.014493241831327655,0.0676916423253715,-0.03323354197865618,0.08640106873852865,0.080226930407142,0.024268305428060036,-0.07193568913498893,-0.07482718955725431,0.09690858403752957,-0.12034621542053563,-0.026611687349421636,-0.06029872622873102,-0.0625711977481842,0.06386768245803458,-0.04160650074481964,0.024073180908869417,0.03227016171773097,0.050166631383555274,-0.22740685859961168,-0.12094237921493393,0.1345235766576869,0.04919868175472532,-0.013929150466408047,0.02386438480711409,0.013084670661815574,0.04331133248550551,-0.03686307490404163,0.0814235189131328,-0.12628685842667306,0.13305080555645482,0.04639834551406758,0.12919252898011888,0.03078841507833983,-0.06827777600847185,-0.038555628408045904,0.08240163958232317,0.03672203528029578,0.11258601995983293,-0.046694649250379625,-0.10758175594466073,-0.05281980681632246,0.0025554175954312086,-0.03876491955348423]            |\n",
            "|[0.2114635020494461,0.2343539185356349,-0.11006290167570115,-0.11685525495558978,-0.17699375338852408,0.05462429150938988,-0.09034790247678758,0.01832709237933159,0.008317850111052395,-0.11282844953238964,0.07101617259904743,0.0966568486765027,-0.0827949406579137,-0.014518254110589624,0.029303788580000403,-0.11205797530710698,0.07064846456050873,-0.044996500946581364,0.01846922435797751,0.08621420674026013,0.050866454094648364,0.02309439405798912,-0.15175301097333432,-0.1284744117408991,-0.02481931820511818,-0.15015254355967045,0.023791237175464632,0.22652961015701295,0.006649460643529892,0.03877078160294332,-0.07954583540558816,0.01814389768987894,-0.008356598392128945,0.01607858808711171,-0.12898304937407376,0.10139203816652298,0.05947153996676207,0.2167767658829689,0.2112965438514948,0.013597372546792032,-0.028984911367297174,-0.010943443514406681,0.08980693724006415,0.06865160996094347,-0.0847086662426591,-0.07382900938391686,-0.06674738675355911,-0.11156916841864586,0.011925244145095349,-0.15685010515153408]               |\n",
            "|[0.052122895088460706,-0.056612267546976604,0.019381578947003517,-0.011904650264316134,4.5448670991592936E-4,-0.17619615922578505,0.18446819256577227,0.07166999935482939,-0.035849332085086234,0.006541653846700986,0.15422083478834894,0.08626645099785592,0.02925997641351488,0.05826127249747515,-0.001497479983501964,0.007810473028156492,-0.09106688656740718,0.06055086395806736,-0.2335078010542525,-0.14586825172106424,-0.00800402338306109,-0.2125187369270457,0.026700055226683617,0.1367394756525755,-0.2574517453710238,-0.08740871937738524,-0.04271790235199862,0.06206918901039494,0.15102608915832308,-0.10942043281263775,0.0884525515139103,0.1407552488769094,-0.0351781149705251,-0.18877704586419794,0.08009399473667145,0.019227690994739532,-0.02792745166354709,-0.037417622903982796,-0.14012108950151336,-0.051589237891473905,0.09825677559193637,-0.09987189514019215,0.09656302868905994,0.045608381016386874,0.047364440798345536,0.19725486532681516,-0.03737299703061581,-0.14774086284968588,-0.026307467888626784,0.013250767460299863]       |\n",
            "|[0.19676172878179285,0.09918769179946846,-0.030666702944371432,0.06453741952362987,-0.06144690761963526,0.03556902401356233,-0.02844785236650043,0.05663430359628465,-0.01936678257253435,-0.07708840330855714,0.18669172831707528,0.13830988934367067,0.00944828117887179,-0.029245505523350503,-0.07887151133682992,0.10499370910434258,0.03065432543452415,-0.05995063193970256,0.012238310986301964,0.02291840532173713,0.038436250347230166,0.10847826529708172,-0.05169608516411649,-0.04705045346377624,-0.07878146711219515,-0.06457308597034878,-0.04300598717398114,0.060045905178412795,-0.04574038564331002,-0.07827589898887607,0.04156178701668978,0.1552803582097921,-0.05082510825660493,0.06895606871694326,-0.0915582606361972,-0.061699219772385225,-0.06294579472806719,0.04138336227171951,-0.02567401797407203,-0.02884473495133635,-0.08706122729765613,0.07263842100898424,0.20728202660878497,-0.12854416533890697,-0.009700290920186995,-0.06560381760613786,-0.002904860716727045,-0.16798435358537567,-0.025808616851766903,0.044277658220380545]      |\n",
            "|[0.13705706968903542,0.10878985102933188,-0.025106267000620183,0.0419525601542913,-0.0910101578069421,-0.01559790847106622,0.017004607961728025,0.03273006064745669,0.06810766451347333,0.06479516754356715,0.03526146867527412,-0.012319340227315059,-0.02112062261081659,0.09140940555013144,-0.0949721267590156,-0.05982542797349967,-0.018759359533970173,-0.053319586727481626,-0.08664875083531325,-0.045105781692724965,0.054179961434923686,-0.028649434160727724,-0.12103826563823253,0.06053277448965953,-0.03252452841171852,-0.12972545981980288,-0.016263772697689444,0.11609306948510215,-0.007701239118782374,-0.03329555389399712,-0.013950065749948129,0.09533191730196659,-0.12961532963583103,-0.1155857786607857,-0.0036422922992362427,0.040949679481295444,0.07946576357174379,0.07794601584856327,0.002605596987100748,0.046695442330719046,0.05321716459897849,-0.012206401510271603,0.06880276069904749,-0.02448733926464159,0.0031134579330682755,0.0363961634441064,0.040064642492395185,-0.08404523578400795,0.022569314433405034,-0.08307653887627217]|\n",
            "|[0.05517686903476715,0.005243482068181038,-0.16047271298399815,0.10938531377663215,-0.0757871555785338,0.02356394442419211,-0.057544294123848275,-0.06297898315824568,0.044863360623518624,0.12111137621104717,0.05613292008638382,-0.06655775010585785,0.01569558121263981,0.11491557086507478,-0.09882415955265363,0.13429254138221342,-0.05879418241480986,0.011392293497920036,-0.022522018601497013,-0.09436988659823933,-0.021286050478617348,0.17747259388367334,-0.03938793701430161,0.1002616478751103,-0.02212198699514071,-0.08848484357198079,-0.08219668393333752,0.19740272018437582,-0.12147993470231691,-0.043636688186476626,-0.02815880129734675,0.21269124746322632,0.039247791593273476,-0.09123891592025757,-0.010179343322912851,-0.015128240610162417,0.08818202271747091,0.10322260266790786,0.05117640892664591,0.015549383436640103,-0.04752523452043533,0.055702084597821035,0.07565939527315398,-0.009171585862835247,-0.06958789727650583,0.13590486518417794,0.10275298170745373,-0.08194648008793592,-0.11043951846659184,-0.025426676341642935]    |\n",
            "|[0.14077101461589336,0.17705804493743926,-0.20252599753439426,-0.003431621938943863,-0.023107806453481317,-0.01706904941238463,-0.0718911699950695,0.246205679140985,-0.07862594909965992,0.06904681771993637,0.12894827872514725,0.03693973273038864,-0.14298433810472488,-0.20802531950175762,0.06089333863928914,-0.17354453587904572,-0.06099364603869617,-0.29771213605999947,0.0048082321882247925,-0.05863324552774429,-0.025263145565986633,-0.1415520221926272,0.10330657847225666,0.1884468561038375,0.045142410323023796,-0.09958409704267979,-0.011339887976646423,0.24630575254559517,-0.10254743695259094,0.057157800532877445,-0.03763595689088106,0.30273669958114624,-0.08399733901023865,0.02504892088472843,0.0979903107509017,-0.04744676919654012,0.12258265260607004,0.06468228995800018,0.10848642140626907,-0.20672520622611046,-0.3140751142054796,-0.19277092069387436,-0.19612419605255127,-0.1093308674171567,-0.1558551862835884,0.10123299807310104,-0.016908258199691772,-0.1337701641023159,-0.1912729282048531,-0.07607046328485012]              |\n",
            "|[0.33617250323295594,0.11834048181772233,-0.13201369643211366,0.01999660506844521,-0.14992470405995847,-0.24205145426094532,0.10280780792236328,0.09520641639828682,0.18493723794817926,0.1309227508492768,0.061783736944198614,0.12432450652122498,-0.15265920609235764,0.036714427173137665,-0.025796139240264894,-0.06284637078642845,0.03420161698013544,-0.11373411864042282,-0.06074728460516781,0.17765259593725205,0.017810679227113723,-0.04583814628422261,-0.15288526378571987,0.10572413578629494,-0.07881400138139726,-0.06817815303802491,0.10546209812164307,0.14373547136783602,0.044327019900083545,-0.03913439139723778,-0.18735355809330942,0.18772382251918318,-0.09036941179074348,-0.15220403969287874,0.026414938271045685,0.12384740114212037,0.03257485628128052,-0.06249528415501118,-0.11261502355337144,0.019374939700355753,-0.02158910557627678,-0.0957970722927712,0.14670985341072082,-0.023241229355335236,0.07391646355390549,-0.0697142392396927,-0.05052907019853592,-0.18827445507049562,-0.0829054594039917,-0.01193864792585373]            |\n",
            "|[0.1404348835349083,0.1397702619433403,-0.003496285527944565,0.062373166903853416,-0.04041542671620846,0.1701163724064827,-0.057818460278213024,0.16828987747430801,-0.10798359662294388,-0.18908496666699648,0.023234421387314796,0.2648601830005646,0.2563485652208328,-0.05931578204035759,0.1929255612194538,0.05293040396645665,-0.2063080444931984,-0.008835148066282272,0.008998185396194458,0.09281747364730109,0.14268950372934341,-0.27494098991155624,0.30877308547496796,0.07933085411787033,-0.19769639894366264,0.23039989918470383,-0.051790809724479914,-0.16233857721090317,-0.1677365005016327,0.1710946038365364,-0.023218665271997452,-0.04105754941701889,-0.36284975707530975,0.12363125011324883,-0.12870652740821242,-0.09046380966901779,-0.1593160182237625,-0.06581712514162064,-0.20128796622157097,-0.0926012471318245,0.06521296501159668,0.15447170287370682,0.17586907371878624,0.16190600395202637,0.11183983087539673,0.045690037310123444,-0.2292960248887539,-0.09190524183213711,0.27328915148973465,0.16646314412355423]                     |\n",
            "|[0.12483834368841988,0.04713392345833459,0.03838676826230117,0.008860570511647632,-0.059103810361453464,-0.022317432998014346,-0.07181029713579586,0.009241946873122027,0.038086291668670516,-0.10977189216230596,0.11836013942956924,0.08640456831614886,-0.05068126214402062,-0.0956776659503313,-0.04575003916397691,0.11897188770983899,-0.006727503878729684,-0.0021792735372270855,-0.10362710823704088,-0.03383307145642383,0.0055989692253725866,-0.0911283382613744,0.041281228086778095,0.068724410874503,-0.09329162431614739,-0.11675920576921531,-0.09053415645446096,0.0641885194927454,0.005174419177430016,-0.06474928584481988,0.004570187202521733,0.21378484155450547,-0.01461794413626194,-0.011860169204218046,-0.12102669647096523,0.002157550039035933,-0.045792334846087863,0.040462783936943324,-0.011043279298714228,-0.03620520446981702,-0.05969459430447646,-0.04252252208867243,0.2384696900844574,0.04939525102132133,-0.02622692420014313,0.13369245561105864,-0.06452374612646443,-0.05903304048946925,-0.05808585988623755,0.009790537878870964] |\n",
            "|[0.19375776778906584,0.2548309125006199,0.055488501256331806,-0.15312043987214566,-0.2981696233153343,0.05753822419792414,-0.21773182228207588,-0.1312311388552189,-0.09709058813750744,0.026278890296816827,0.2201463971287012,-0.12951172590255738,-0.11482093781232834,0.1365914661437273,0.15488867759704592,-0.10971716716885567,0.1509528085589409,-0.12980315648019314,0.10091776587069035,-0.027548736333847048,0.013467689603567125,-0.13231228962540628,-0.15085195228457451,-0.19624348357319832,-0.05298014879226685,-0.02300337478518486,0.023805295675992967,0.22850598730146887,0.057279311865568165,0.022874666750431063,0.061836205422878265,0.06558592692017555,-0.14247211888432504,0.23179936334490778,-0.03632291648536921,0.10178316505625845,-0.15065507143735887,0.08854626566171647,-0.07759028747677804,-0.025108239171095195,0.03250713124871254,0.1728012936189771,0.10078829377889634,-0.007235033810138703,0.12243055067956449,-0.03164538480341435,-0.046784857660532,-0.06611804850399494,0.1064589437795803,0.010232095886021853]                 |\n",
            "+-----------------------------------------------------------------------------------------------------------------------------------------------------------------------------------------------------------------------------------------------------------------------------------------------------------------------------------------------------------------------------------------------------------------------------------------------------------------------------------------------------------------------------------------------------------------------------------------------------------------------------------------------------------------------------------------------------------------------------------------------------------------------------------------------------------------------------------------------------------------------------------------------------------------------------------------------------------------------------------------------------------------------------------------------------------------------------------+\n",
            "only showing top 20 rows\n",
            "\n"
          ]
        }
      ],
      "source": [
        "# divise la colonne text en une liste de mots séparés\n",
        "X = X.withColumn(\"text\", split(col(\"text\"), \" \"))\n",
        "\n",
        "word2vec = Word2Vec(vectorSize=50,# chaque mot sera représenté par un vecteur de dimensions = 50\n",
        "                    minCount=4 ,# seuls les mots qui apparaissent au moins 4 fois  seront considérés.\n",
        "                    inputCol=\"text\", outputCol=\"embedding\")\n",
        "# Ajuster le modèle :\n",
        "model = word2vec.fit(X)\n",
        "\n",
        "# Appliquer la transformation\n",
        "embeddings = model.transform(X)\n",
        "\n",
        "X = embeddings.drop(\"text\")\n",
        "\n",
        "X.show(truncate=False)"
      ]
    },
    {
      "cell_type": "markdown",
      "source": [
        "## conversion  du DataFrame PySpark en un tableau NumPy"
      ],
      "metadata": {
        "id": "tImWea_oCVwC"
      }
    },
    {
      "cell_type": "code",
      "execution_count": null,
      "metadata": {
        "id": "_GoD6ExWZWUJ"
      },
      "outputs": [],
      "source": [
        "# Convertir le DataFrame en une liste d'objets Row\n",
        "rows = X.select(struct(\"embedding\")).collect()\n",
        "\n",
        "# Convertir chaque Row á NumPy array\n",
        "arrays = [np.array(row) for row in rows]\n",
        "\n",
        "# Empiler les tableaux NumPy verticalement en une seule matrice 2D.\n",
        "numpy_array = np.vstack(arrays)\n"
      ]
    },
    {
      "cell_type": "code",
      "execution_count": null,
      "metadata": {
        "id": "lEJKZVaKCAq6"
      },
      "outputs": [],
      "source": [
        "inputs = numpy_array.astype('float32')\n"
      ]
    },
    {
      "cell_type": "code",
      "execution_count": null,
      "metadata": {
        "id": "XQs9TG2V2YtE"
      },
      "outputs": [],
      "source": [
        "# Convertir la colonne \"target\" en une liste d'objets\n",
        "\n",
        "rows_target = target.select(struct(\"target\")).collect()\n",
        "\n",
        "# Convertir chaque rows_target á NumPy array\n",
        "arrays_taregt = [np.array(row) for row in rows_target]\n",
        "\n",
        "# Empiler les tableaux NumPy verticalement en une seule matrice 2D.\n",
        "numpy_array_target = np.vstack(arrays_taregt)"
      ]
    },
    {
      "cell_type": "code",
      "execution_count": null,
      "metadata": {
        "id": "Orkk7U7g3EXP"
      },
      "outputs": [],
      "source": [
        "target = numpy_array_target.astype('float32')"
      ]
    },
    {
      "cell_type": "code",
      "execution_count": null,
      "metadata": {
        "colab": {
          "base_uri": "https://localhost:8080/"
        },
        "id": "SiHVAyC93SoA",
        "outputId": "780a6c9a-680c-40b1-f276-91d3df14fcf2"
      },
      "outputs": [
        {
          "output_type": "execute_result",
          "data": {
            "text/plain": [
              "(300000, 1)"
            ]
          },
          "metadata": {},
          "execution_count": 51
        }
      ],
      "source": [
        "target.shape"
      ]
    },
    {
      "cell_type": "code",
      "execution_count": null,
      "metadata": {
        "colab": {
          "base_uri": "https://localhost:8080/"
        },
        "id": "KwfYW79A3nPy",
        "outputId": "e38a089c-a7dc-45d0-c780-bedd378dd99e"
      },
      "outputs": [
        {
          "output_type": "execute_result",
          "data": {
            "text/plain": [
              "(300000, 1, 50)"
            ]
          },
          "metadata": {},
          "execution_count": 52
        }
      ],
      "source": [
        "inputs.shape"
      ]
    },
    {
      "cell_type": "markdown",
      "metadata": {
        "id": "ZB8hDjFnLAAT"
      },
      "source": [
        "# Split the data to trainset & testset :"
      ]
    },
    {
      "cell_type": "code",
      "execution_count": null,
      "metadata": {
        "id": "5qufWt9RP1fZ"
      },
      "outputs": [],
      "source": [
        "from sklearn.model_selection import train_test_split\n",
        "\n",
        "x_train , x_test, y_train, y_test = train_test_split(inputs, target, test_size=0.2, random_state=42, shuffle=True)"
      ]
    },
    {
      "cell_type": "code",
      "execution_count": null,
      "metadata": {
        "id": "thFIc-2oPpYD"
      },
      "outputs": [],
      "source": [
        "unique, counts = np.unique(y_train, return_counts=True)"
      ]
    },
    {
      "cell_type": "code",
      "execution_count": null,
      "metadata": {
        "colab": {
          "base_uri": "https://localhost:8080/"
        },
        "id": "hlFgWxyzPrPe",
        "outputId": "622647fe-d768-430d-dc89-db8b4d9436d7"
      },
      "outputs": [
        {
          "output_type": "stream",
          "name": "stdout",
          "text": [
            "0.0 : 120093\n",
            "1.0 : 119907\n"
          ]
        }
      ],
      "source": [
        "for i in range(len(unique)):\n",
        "    print(f\"{unique[i]} : {counts[i]}\")"
      ]
    },
    {
      "cell_type": "code",
      "execution_count": null,
      "metadata": {
        "id": "PbtsYPpDQA0Y"
      },
      "outputs": [],
      "source": [
        "unique, counts = np.unique(y_test, return_counts=True)"
      ]
    },
    {
      "cell_type": "code",
      "execution_count": null,
      "metadata": {
        "colab": {
          "base_uri": "https://localhost:8080/"
        },
        "id": "4vnR4uqZQA3A",
        "outputId": "e00ae2a0-9088-4c8a-eb17-dfef332394bc"
      },
      "outputs": [
        {
          "output_type": "stream",
          "name": "stdout",
          "text": [
            "0.0 : 29907\n",
            "1.0 : 30093\n"
          ]
        }
      ],
      "source": [
        "for i in range(len(unique)):\n",
        "    print(f\"{unique[i]} : {counts[i]}\")"
      ]
    },
    {
      "cell_type": "markdown",
      "metadata": {
        "id": "1frwAA7LevKp"
      },
      "source": [
        "# Create RNN model"
      ]
    },
    {
      "cell_type": "code",
      "execution_count": null,
      "metadata": {
        "id": "17GVQvERTiaC"
      },
      "outputs": [],
      "source": [
        "model = Sequential()\n",
        "# couche RNN\n",
        "model.add(SimpleRNN(units=32 , # 32 neurons\n",
        "                    activation='relu', # (Rectified  Linear  Unit) fonction d'activation\n",
        "                    input_shape=(1, 50) # une séquence d'entrée de 50 embedings pour chaque observation\n",
        "                    ))\n",
        "# couche de sortie binaire\n",
        "model.add(Dense(units=1 # une couche dense qui contient un seul neurone\n",
        "                , activation='sigmoid' # fonction d'activation\n",
        "                ))\n"
      ]
    },
    {
      "cell_type": "code",
      "execution_count": null,
      "metadata": {
        "id": "BhvjUkSaNsY7"
      },
      "outputs": [],
      "source": [
        "# Compilation du model\n",
        "model.compile(optimizer='adam', #  l'optimiseur utilisé est Adam qui est utiliser pour ajuster les poids du modèle lors de l'apprentissage\n",
        "              loss='binary_crossentropy', # fonction de perte utiliser pour mesurer l'erreur entre les prédictions du modèle et les valeurs de sortie réelles\n",
        "              metrics=['accuracy'] # pour évaluer les performances du modèle pendant l'apprentissage\n",
        "              )"
      ]
    },
    {
      "cell_type": "code",
      "execution_count": null,
      "metadata": {
        "colab": {
          "base_uri": "https://localhost:8080/"
        },
        "id": "nq1WwCQSNuNg",
        "outputId": "b8fcaad2-e5f0-4e44-937c-95ecab4e3a1f"
      },
      "outputs": [
        {
          "output_type": "stream",
          "name": "stdout",
          "text": [
            "Epoch 1/5\n",
            "3750/3750 [==============================] - 16s 4ms/step - loss: 0.5829 - accuracy: 0.6849\n",
            "Epoch 2/5\n",
            "3750/3750 [==============================] - 14s 4ms/step - loss: 0.5626 - accuracy: 0.7035\n",
            "Epoch 3/5\n",
            "3750/3750 [==============================] - 14s 4ms/step - loss: 0.5556 - accuracy: 0.7099\n",
            "Epoch 4/5\n",
            "3750/3750 [==============================] - 13s 4ms/step - loss: 0.5517 - accuracy: 0.7136\n",
            "Epoch 5/5\n",
            "3750/3750 [==============================] - 13s 4ms/step - loss: 0.5490 - accuracy: 0.7156\n"
          ]
        },
        {
          "output_type": "execute_result",
          "data": {
            "text/plain": [
              "<keras.callbacks.History at 0x7fc1742ae290>"
            ]
          },
          "metadata": {},
          "execution_count": 60
        }
      ],
      "source": [
        "# Entrainement du model\n",
        "model.fit(x_train, y_train, epochs=5 ,# Nombre d'itérations\n",
        "           batch_size=64\n",
        "          )"
      ]
    },
    {
      "cell_type": "code",
      "execution_count": null,
      "metadata": {
        "colab": {
          "base_uri": "https://localhost:8080/"
        },
        "id": "WRhNJQYbftny",
        "outputId": "1d8b487e-833f-4eba-b4aa-4a83e76e8eb9"
      },
      "outputs": [
        {
          "output_type": "stream",
          "name": "stdout",
          "text": [
            "1875/1875 [==============================] - 6s 3ms/step - loss: 0.5517 - accuracy: 0.7142\n",
            "Test Loss: 0.5516737103462219\n",
            "Test Accuracy: 0.7141666412353516\n"
          ]
        }
      ],
      "source": [
        "# Evaluation du modele sur les données test\n",
        "loss, accuracy = model.evaluate(x_test, y_test)\n",
        "print(\"Test Loss:\", loss)\n",
        "print(\"Test Accuracy:\", accuracy)"
      ]
    },
    {
      "cell_type": "markdown",
      "metadata": {
        "id": "wdsMA2gPe-vj"
      },
      "source": [
        "# Confusion matrix"
      ]
    },
    {
      "cell_type": "code",
      "execution_count": null,
      "metadata": {
        "colab": {
          "base_uri": "https://localhost:8080/",
          "height": 493
        },
        "id": "Op4V0X7-gKn1",
        "outputId": "a46c0ce0-b042-4a27-dfa7-ea2e8d7b4eb0"
      },
      "outputs": [
        {
          "output_type": "display_data",
          "data": {
            "text/plain": [
              "<Figure size 640x480 with 2 Axes>"
            ],
            "image/png": "[encoded data removed]"
          },
          "metadata": {}
        }
      ],
      "source": [
        "ax = sns.heatmap(confusion_matrix(y_test, ypred), annot=True, cmap=\"Blues\")\n",
        "ax.set_title('Confusion Matrix\\n');\n",
        "ax.set_xlabel('Classes prédites')\n",
        "ax.set_ylabel('Classes réelles');\n",
        "\n",
        "ax.xaxis.set_ticklabels(['0', '1'])\n",
        "ax.yaxis.set_ticklabels(['0', '1'])\n",
        "\n",
        "plt.show()"
      ]
    }
  ],
  "metadata": {
    "accelerator": "GPU",
    "colab": {
      "provenance": []
    },
    "gpuClass": "standard",
    "kernelspec": {
      "display_name": "Python 3 (ipykernel)",
      "language": "python",
      "name": "python3"
    },
    "language_info": {
      "codemirror_mode": {
        "name": "ipython",
        "version": 3
      },
      "file_extension": ".py",
      "mimetype": "text/x-python",
      "name": "python",
      "nbconvert_exporter": "python",
      "pygments_lexer": "ipython3",
      "version": "3.9.13"
    }
  },
  "nbformat": 4,
  "nbformat_minor": 0
}